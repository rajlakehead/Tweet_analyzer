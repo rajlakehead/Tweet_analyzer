{
 "cells": [
  {
   "cell_type": "markdown",
   "id": "8196552b",
   "metadata": {},
   "source": [
    "Importing all required libraries"
   ]
  },
  {
   "cell_type": "code",
   "execution_count": 10,
   "id": "8dc4764b",
   "metadata": {},
   "outputs": [],
   "source": [
    "import pandas as pd\n",
    "from matplotlib import pyplot as plt\n",
    "import seaborn as sns\n",
    "from nltk.sentiment import SentimentIntensityAnalyzer\n",
    "import re\n",
    "import nltk\n",
    "from textblob import TextBlob"
   ]
  },
  {
   "cell_type": "markdown",
   "id": "061e09a3",
   "metadata": {},
   "source": [
    "Dataset Path"
   ]
  },
  {
   "cell_type": "code",
   "execution_count": 2,
   "id": "05f7c004",
   "metadata": {},
   "outputs": [],
   "source": [
    "paths = ['TweetIDs_November.csv', 'TweetIDs_December.csv', 'TweetIDs_January.csv', 'TweetIDs_February.csv', \n",
    "        'TweetIDs_March.csv', 'TweetIDs_April.csv', 'TweetIDs_May.csv']"
   ]
  },
  {
   "cell_type": "markdown",
   "id": "3e6920a1",
   "metadata": {},
   "source": [
    "Reading Dataset"
   ]
  },
  {
   "cell_type": "code",
   "execution_count": 5,
   "id": "c801aeff",
   "metadata": {},
   "outputs": [],
   "source": [
    "twitter_dataset = pd.DataFrame()\n",
    "for file in paths:\n",
    "    dataset = pd.read_csv(file)\n",
    "    frames = [tweet_dataset, dataset]\n",
    "    twitter_dataset = pd.concat(frames, ignore_index = True)"
   ]
  },
  {
   "cell_type": "code",
   "execution_count": 6,
   "id": "f8fd5ae9",
   "metadata": {},
   "outputs": [
    {
     "name": "stdout",
     "output_type": "stream",
     "text": [
      "<class 'pandas.core.frame.DataFrame'>\n",
      "RangeIndex: 513037 entries, 0 to 513036\n",
      "Data columns (total 35 columns):\n",
      " #   Column                      Non-Null Count   Dtype  \n",
      "---  ------                      --------------   -----  \n",
      " 0   coordinates                 364 non-null     object \n",
      " 1   created_at                  513037 non-null  object \n",
      " 2   hashtags                    92422 non-null   object \n",
      " 3   media                       74121 non-null   object \n",
      " 4   urls                        208725 non-null  object \n",
      " 5   favorite_count              513037 non-null  int64  \n",
      " 6   id                          513037 non-null  int64  \n",
      " 7   in_reply_to_screen_name     227190 non-null  object \n",
      " 8   in_reply_to_status_id       223711 non-null  float64\n",
      " 9   in_reply_to_user_id         227190 non-null  float64\n",
      " 10  lang                        513037 non-null  object \n",
      " 11  place                       8962 non-null    object \n",
      " 12  possibly_sensitive          254777 non-null  object \n",
      " 13  quote_id                    39243 non-null   float64\n",
      " 14  retweet_count               513037 non-null  int64  \n",
      " 15  retweet_id                  0 non-null       float64\n",
      " 16  retweet_screen_name         0 non-null       float64\n",
      " 17  source                      513037 non-null  object \n",
      " 18  text                        513037 non-null  object \n",
      " 19  tweet_url                   513037 non-null  object \n",
      " 20  user_created_at             513037 non-null  object \n",
      " 21  user_id                     513037 non-null  int64  \n",
      " 22  user_default_profile_image  513037 non-null  bool   \n",
      " 23  user_description            452320 non-null  object \n",
      " 24  user_favourites_count       513037 non-null  int64  \n",
      " 25  user_followers_count        513037 non-null  int64  \n",
      " 26  user_friends_count          513037 non-null  int64  \n",
      " 27  user_listed_count           513037 non-null  int64  \n",
      " 28  user_location               355305 non-null  object \n",
      " 29  user_name                   512986 non-null  object \n",
      " 30  user_screen_name            513037 non-null  object \n",
      " 31  user_statuses_count         513037 non-null  int64  \n",
      " 32  user_time_zone              0 non-null       float64\n",
      " 33  user_urls                   204601 non-null  object \n",
      " 34  user_verified               513037 non-null  bool   \n",
      "dtypes: bool(2), float64(6), int64(9), object(18)\n",
      "memory usage: 130.1+ MB\n"
     ]
    }
   ],
   "source": [
    "twitter_dataset.info()\n"
   ]
  },
  {
   "cell_type": "code",
   "execution_count": 7,
   "id": "6e63f2e1",
   "metadata": {},
   "outputs": [
    {
     "data": {
      "text/html": [
       "<div>\n",
       "<style scoped>\n",
       "    .dataframe tbody tr th:only-of-type {\n",
       "        vertical-align: middle;\n",
       "    }\n",
       "\n",
       "    .dataframe tbody tr th {\n",
       "        vertical-align: top;\n",
       "    }\n",
       "\n",
       "    .dataframe thead th {\n",
       "        text-align: right;\n",
       "    }\n",
       "</style>\n",
       "<table border=\"1\" class=\"dataframe\">\n",
       "  <thead>\n",
       "    <tr style=\"text-align: right;\">\n",
       "      <th></th>\n",
       "      <th>coordinates</th>\n",
       "      <th>created_at</th>\n",
       "      <th>hashtags</th>\n",
       "      <th>media</th>\n",
       "      <th>urls</th>\n",
       "      <th>favorite_count</th>\n",
       "      <th>id</th>\n",
       "      <th>in_reply_to_screen_name</th>\n",
       "      <th>in_reply_to_status_id</th>\n",
       "      <th>in_reply_to_user_id</th>\n",
       "      <th>...</th>\n",
       "      <th>user_followers_count</th>\n",
       "      <th>user_friends_count</th>\n",
       "      <th>user_listed_count</th>\n",
       "      <th>user_location</th>\n",
       "      <th>user_name</th>\n",
       "      <th>user_screen_name</th>\n",
       "      <th>user_statuses_count</th>\n",
       "      <th>user_time_zone</th>\n",
       "      <th>user_urls</th>\n",
       "      <th>user_verified</th>\n",
       "    </tr>\n",
       "  </thead>\n",
       "  <tbody>\n",
       "    <tr>\n",
       "      <th>0</th>\n",
       "      <td>NaN</td>\n",
       "      <td>Wed Nov 24 05:28:10 +0000 2021</td>\n",
       "      <td>NaN</td>\n",
       "      <td>NaN</td>\n",
       "      <td>NaN</td>\n",
       "      <td>0</td>\n",
       "      <td>1463378891418988546</td>\n",
       "      <td>11MrHc11</td>\n",
       "      <td>1.463347e+18</td>\n",
       "      <td>8.750047e+17</td>\n",
       "      <td>...</td>\n",
       "      <td>122</td>\n",
       "      <td>128</td>\n",
       "      <td>2</td>\n",
       "      <td>NaN</td>\n",
       "      <td>Omi</td>\n",
       "      <td>Omicron_sky</td>\n",
       "      <td>5758</td>\n",
       "      <td>NaN</td>\n",
       "      <td>NaN</td>\n",
       "      <td>False</td>\n",
       "    </tr>\n",
       "    <tr>\n",
       "      <th>1</th>\n",
       "      <td>NaN</td>\n",
       "      <td>Wed Nov 24 15:52:16 +0000 2021</td>\n",
       "      <td>NaN</td>\n",
       "      <td>NaN</td>\n",
       "      <td>NaN</td>\n",
       "      <td>1</td>\n",
       "      <td>1463535951313977344</td>\n",
       "      <td>lollipop8l9</td>\n",
       "      <td>1.463531e+18</td>\n",
       "      <td>8.248749e+17</td>\n",
       "      <td>...</td>\n",
       "      <td>101</td>\n",
       "      <td>163</td>\n",
       "      <td>25</td>\n",
       "      <td>NaN</td>\n",
       "      <td>はむたろう</td>\n",
       "      <td>Amagumo_anal</td>\n",
       "      <td>9538</td>\n",
       "      <td>NaN</td>\n",
       "      <td>NaN</td>\n",
       "      <td>False</td>\n",
       "    </tr>\n",
       "    <tr>\n",
       "      <th>2</th>\n",
       "      <td>NaN</td>\n",
       "      <td>Wed Nov 24 23:25:58 +0000 2021</td>\n",
       "      <td>NaN</td>\n",
       "      <td>NaN</td>\n",
       "      <td>NaN</td>\n",
       "      <td>0</td>\n",
       "      <td>1463650127084769292</td>\n",
       "      <td>serrisvnt_s</td>\n",
       "      <td>1.463649e+18</td>\n",
       "      <td>1.345216e+18</td>\n",
       "      <td>...</td>\n",
       "      <td>290</td>\n",
       "      <td>202</td>\n",
       "      <td>0</td>\n",
       "      <td>Alsace / Veneto ✝️</td>\n",
       "      <td>s 🇨🇵🇮🇹</td>\n",
       "      <td>serrisvnt_s</td>\n",
       "      <td>5567</td>\n",
       "      <td>NaN</td>\n",
       "      <td>NaN</td>\n",
       "      <td>False</td>\n",
       "    </tr>\n",
       "    <tr>\n",
       "      <th>3</th>\n",
       "      <td>NaN</td>\n",
       "      <td>Wed Nov 24 12:51:15 +0000 2021</td>\n",
       "      <td>NaN</td>\n",
       "      <td>NaN</td>\n",
       "      <td>NaN</td>\n",
       "      <td>0</td>\n",
       "      <td>1463490396672065536</td>\n",
       "      <td>thatavinash</td>\n",
       "      <td>1.463490e+18</td>\n",
       "      <td>4.512096e+08</td>\n",
       "      <td>...</td>\n",
       "      <td>148</td>\n",
       "      <td>88</td>\n",
       "      <td>2</td>\n",
       "      <td>Earth, Alternate Reality</td>\n",
       "      <td>Zeta 💜</td>\n",
       "      <td>zeta_omicron_</td>\n",
       "      <td>2324</td>\n",
       "      <td>NaN</td>\n",
       "      <td>http://www.instagram.com/zeta.omicron</td>\n",
       "      <td>False</td>\n",
       "    </tr>\n",
       "    <tr>\n",
       "      <th>4</th>\n",
       "      <td>NaN</td>\n",
       "      <td>Wed Nov 24 13:23:10 +0000 2021</td>\n",
       "      <td>NaN</td>\n",
       "      <td>NaN</td>\n",
       "      <td>NaN</td>\n",
       "      <td>0</td>\n",
       "      <td>1463498426688045058</td>\n",
       "      <td>NaN</td>\n",
       "      <td>NaN</td>\n",
       "      <td>NaN</td>\n",
       "      <td>...</td>\n",
       "      <td>229</td>\n",
       "      <td>312</td>\n",
       "      <td>0</td>\n",
       "      <td>NaN</td>\n",
       "      <td>AlbertttttS</td>\n",
       "      <td>Hyper_Omicron</td>\n",
       "      <td>2466</td>\n",
       "      <td>NaN</td>\n",
       "      <td>NaN</td>\n",
       "      <td>False</td>\n",
       "    </tr>\n",
       "  </tbody>\n",
       "</table>\n",
       "<p>5 rows × 35 columns</p>\n",
       "</div>"
      ],
      "text/plain": [
       "  coordinates                      created_at hashtags media urls  \\\n",
       "0         NaN  Wed Nov 24 05:28:10 +0000 2021      NaN   NaN  NaN   \n",
       "1         NaN  Wed Nov 24 15:52:16 +0000 2021      NaN   NaN  NaN   \n",
       "2         NaN  Wed Nov 24 23:25:58 +0000 2021      NaN   NaN  NaN   \n",
       "3         NaN  Wed Nov 24 12:51:15 +0000 2021      NaN   NaN  NaN   \n",
       "4         NaN  Wed Nov 24 13:23:10 +0000 2021      NaN   NaN  NaN   \n",
       "\n",
       "   favorite_count                   id in_reply_to_screen_name  \\\n",
       "0               0  1463378891418988546                11MrHc11   \n",
       "1               1  1463535951313977344             lollipop8l9   \n",
       "2               0  1463650127084769292             serrisvnt_s   \n",
       "3               0  1463490396672065536             thatavinash   \n",
       "4               0  1463498426688045058                     NaN   \n",
       "\n",
       "   in_reply_to_status_id  in_reply_to_user_id  ... user_followers_count  \\\n",
       "0           1.463347e+18         8.750047e+17  ...                  122   \n",
       "1           1.463531e+18         8.248749e+17  ...                  101   \n",
       "2           1.463649e+18         1.345216e+18  ...                  290   \n",
       "3           1.463490e+18         4.512096e+08  ...                  148   \n",
       "4                    NaN                  NaN  ...                  229   \n",
       "\n",
       "  user_friends_count user_listed_count             user_location    user_name  \\\n",
       "0                128                 2                       NaN          Omi   \n",
       "1                163                25                       NaN        はむたろう   \n",
       "2                202                 0        Alsace / Veneto ✝️       s 🇨🇵🇮🇹   \n",
       "3                 88                 2  Earth, Alternate Reality       Zeta 💜   \n",
       "4                312                 0                       NaN  AlbertttttS   \n",
       "\n",
       "   user_screen_name  user_statuses_count user_time_zone  \\\n",
       "0       Omicron_sky                 5758            NaN   \n",
       "1      Amagumo_anal                 9538            NaN   \n",
       "2       serrisvnt_s                 5567            NaN   \n",
       "3     zeta_omicron_                 2324            NaN   \n",
       "4     Hyper_Omicron                 2466            NaN   \n",
       "\n",
       "                               user_urls user_verified  \n",
       "0                                    NaN         False  \n",
       "1                                    NaN         False  \n",
       "2                                    NaN         False  \n",
       "3  http://www.instagram.com/zeta.omicron         False  \n",
       "4                                    NaN         False  \n",
       "\n",
       "[5 rows x 35 columns]"
      ]
     },
     "execution_count": 7,
     "metadata": {},
     "output_type": "execute_result"
    }
   ],
   "source": [
    "twitter_dataset.head()"
   ]
  },
  {
   "cell_type": "markdown",
   "id": "480c106e",
   "metadata": {},
   "source": [
    "Tweet text preprocessing"
   ]
  },
  {
   "cell_type": "code",
   "execution_count": 32,
   "id": "7dbb850f",
   "metadata": {},
   "outputs": [],
   "source": [
    "twitter_dataset['text'] = twitter_dataset['text'].str.replace(\"([@#][A-Za-z0-9_]+)|(\\w+:\\/\\/\\S+)\", \"\", regex = True)\n",
    "twitter_dataset['text'] = twitter_dataset['text'].str.replace(r'[^\\w\\s]', '', regex = True)\n",
    "twitter_dataset['text'] = twitter_dataset['text'].str.replace(r'\\s+', ' ', regex = True) "
   ]
  },
  {
   "cell_type": "markdown",
   "id": "d03a80b8",
   "metadata": {},
   "source": [
    "Tweet analyzer"
   ]
  },
  {
   "cell_type": "code",
   "execution_count": 19,
   "id": "6ec005b8",
   "metadata": {},
   "outputs": [],
   "source": [
    "def get_sentiment(dataset):\n",
    "        sentiments = []\n",
    "        for tweet in dataset['text']:\n",
    "            analysis = TextBlob(tweet)\n",
    "            if analysis.sentiment.polarity > 0:\n",
    "                ans = 'positive'\n",
    "            elif analysis.sentiment.polarity == 0:\n",
    "                ans = 'neutral'\n",
    "            else:\n",
    "                ans = 'negative'\n",
    "            sentiments.append(ans)\n",
    "        return sentiments"
   ]
  },
  {
   "cell_type": "code",
   "execution_count": 20,
   "id": "7816ee01",
   "metadata": {},
   "outputs": [],
   "source": [
    "twitter_dataset['category'] = get_sentiment(twitter_dataset)"
   ]
  },
  {
   "cell_type": "code",
   "execution_count": 26,
   "id": "c37b9602",
   "metadata": {},
   "outputs": [
    {
     "data": {
      "text/plain": [
       "0          neutral\n",
       "1          neutral\n",
       "2          neutral\n",
       "3         negative\n",
       "4          neutral\n",
       "            ...   \n",
       "513032    negative\n",
       "513033    positive\n",
       "513034    negative\n",
       "513035    positive\n",
       "513036     neutral\n",
       "Name: category, Length: 513037, dtype: object"
      ]
     },
     "execution_count": 26,
     "metadata": {},
     "output_type": "execute_result"
    }
   ],
   "source": [
    "twitter_dataset['category']"
   ]
  },
  {
   "cell_type": "code",
   "execution_count": 23,
   "id": "b0a24322",
   "metadata": {},
   "outputs": [],
   "source": [
    "def plot_graph(sentiment_counts):\n",
    "    sentiment_counts = dict(sentiment_counts.value_counts())\n",
    "    plt.pie(sentiment_counts.values(), labels = sentiment_counts.keys(), autopct='%.2f')\n",
    "    plt.show()"
   ]
  },
  {
   "cell_type": "code",
   "execution_count": 29,
   "id": "93098725",
   "metadata": {},
   "outputs": [
    {
     "data": {
      "text/plain": [
       "neutral     249819\n",
       "positive    181484\n",
       "negative     81734\n",
       "Name: category, dtype: int64"
      ]
     },
     "execution_count": 29,
     "metadata": {},
     "output_type": "execute_result"
    }
   ],
   "source": [
    "twitter_dataset['category'].value_counts()\n"
   ]
  },
  {
   "cell_type": "code",
   "execution_count": 30,
   "id": "8281c3b5",
   "metadata": {},
   "outputs": [
    {
     "data": {
      "image/png": "[encoded data removed]",
      "text/plain": [
       "<Figure size 640x480 with 1 Axes>"
      ]
     },
     "metadata": {},
     "output_type": "display_data"
    }
   ],
   "source": [
    "plot_graph(twitter_dataset['category'])"
   ]
  },
  {
   "cell_type": "code",
   "execution_count": null,
   "id": "e7c5ec83",
   "metadata": {},
   "outputs": [],
   "source": []
  }
 ],
 "metadata": {
  "kernelspec": {
   "display_name": "Python 3 (ipykernel)",
   "language": "python",
   "name": "python3"
  },
  "language_info": {
   "codemirror_mode": {
    "name": "ipython",
    "version": 3
   },
   "file_extension": ".py",
   "mimetype": "text/x-python",
   "name": "python",
   "nbconvert_exporter": "python",
   "pygments_lexer": "ipython3",
   "version": "3.9.13"
  }
 },
 "nbformat": 4,
 "nbformat_minor": 5
}
